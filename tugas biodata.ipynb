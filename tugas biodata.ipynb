{
 "cells": [
  {
   "cell_type": "code",
   "execution_count": 1,
   "id": "2c925521",
   "metadata": {},
   "outputs": [
    {
     "name": "stdout",
     "output_type": "stream",
     "text": [
      "HELLO WORLD\n",
      "python itu mudah banget\n",
      "Andreas Jefri\n",
      "pemograman python\n"
     ]
    }
   ],
   "source": [
    "print(\"HELLO WORLD\")\n",
    "print(\"python itu mudah banget\")\n",
    "nama = (\"Andreas Jefri\")\n",
    "matakuliah = (\"pemograman python\")\n",
    "\n",
    "print(nama)\n",
    "print(matakuliah)"
   ]
  },
  {
   "cell_type": "code",
   "execution_count": 2,
   "id": "b274c3fe",
   "metadata": {},
   "outputs": [
    {
     "name": "stdout",
     "output_type": "stream",
     "text": [
      "bukan block\n"
     ]
    }
   ],
   "source": [
    "nama = \"budi\"\n",
    "if nama =='badra':\n",
    "    print(nama)\n",
    "    print(\"Selemat Datang\")\n",
    "print (\"bukan block\")\n"
   ]
  },
  {
   "cell_type": "code",
   "execution_count": 9,
   "id": "c4f39c71",
   "metadata": {},
   "outputs": [
    {
     "name": "stdout",
     "output_type": "stream",
     "text": [
      "113235736485638\n",
      "JEFF\n"
     ]
    }
   ],
   "source": [
    "Nama = \"JEFF\"\n",
    "NAMA = \"ANDREAS\"\n",
    "angka = \"1\"\n",
    "angkaku = \"13235736485638\"\n",
    "angka1= 1\n",
    "print(angka+angkaku)\n",
    "type(angkaku)\n",
    "type(angka1)\n",
    "print(Nama)\n",
    "\n"
   ]
  },
  {
   "cell_type": "code",
   "execution_count": 3,
   "id": "b0bf87d9",
   "metadata": {},
   "outputs": [
    {
     "name": "stdout",
     "output_type": "stream",
     "text": [
      "Andreas Jefri\n",
      "L\n",
      "\"\n",
      "            Kom.Pondok Indah Lestari\n",
      "            Pontianak, Kalimantan Barat\n",
      "            Indonesia\n",
      "            \n",
      "Katolik\n"
     ]
    }
   ],
   "source": [
    "nama = \"Andreas Jefri\"\n",
    "\n",
    "Jenis_Kelamin = 'L'\n",
    "alamat = \"\"\"\"\n",
    "            Kom.Pondok Indah Lestari\n",
    "            Pontianak, Kalimantan Barat\n",
    "            Indonesia\n",
    "            \"\"\"\n",
    "agama = 'Katolik'  \n",
    "print(nama)\n",
    "print(Jenis_Kelamin)\n",
    "print (alamat)\n",
    "print(agama)"
   ]
  },
  {
   "cell_type": "code",
   "execution_count": 11,
   "id": "32b9f668",
   "metadata": {},
   "outputs": [
    {
     "name": "stdout",
     "output_type": "stream",
     "text": [
      "=============================================================\n",
      "NIK :  61061810xxxxx003\n",
      "Nama             :  Andreas jefri\n",
      "Tempat Tgl Lahir :  Nanga Arong,10-11-2001\n",
      "Jenik Kelamin    :  Laki-laki\n",
      "Alamat           :  Dusun Nanga Arong,\n",
      "       RT/RW     :  003/000\n",
      "       Kel/Desa  :  Nanga Raun\n",
      "       Kecamatan :  Nanga Kalis\n",
      "Agama            :  Katolik\n",
      "Status           :  Belum Menikah\n",
      "Pekerjaan        :  Pelajar/Mahasiswa\n",
      "Kewarganegaraan  :  WNI\n",
      "Berlaku Hingga   :  Seumur Hidup\n",
      "=============================================================\n"
     ]
    }
   ],
   "source": [
    "nik = \"61061810xxxxx003\"\n",
    "ttl = \"Nanga Arong,10-11-2001\"\n",
    "jenis_kelamin = \"Laki-laki\"\n",
    "golonga_darah = \"-\"\n",
    "nama = \"Andreas jefri\"\n",
    "alamat = \"\"\"Dusun Nanga Arong,\n",
    "       RT/RW     :  003/000\n",
    "       Kel/Desa  :  Nanga Raun\n",
    "       Kecamatan :  Nanga Kalis\"\"\"\n",
    "agama = \"Katolik\"\n",
    "kewarganegaraan = \"WNI\"\n",
    "berlaku = \"Seumur Hidup\"\n",
    "kerja = \"Pelajar/Mahasiswa\"\n",
    "menikah =False\n",
    "#cetak\n",
    "print(\"=============================================================\")\n",
    "\n",
    "print(\"NIK : \", nik)\n",
    "\n",
    "print(\"Nama             : \", nama)\n",
    "print(\"Tempat Tgl Lahir : \", ttl)\n",
    "print(\"Jenik Kelamin    : \", jenis_kelamin)\n",
    "print(\"Alamat           : \", alamat)\n",
    "print(\"Agama            : \", agama)\n",
    "if(menikah):\n",
    "    print(\"Status           :  Menikah\")\n",
    "else:\n",
    "    print(\"Status           :  Belum Menikah\")\n",
    "print(\"Pekerjaan        : \", kerja)\n",
    "print(\"Kewarganegaraan  : \", kewarganegaraan)\n",
    "print(\"Berlaku Hingga   : \", berlaku)\n",
    "print(\"=============================================================\")"
   ]
  },
  {
   "cell_type": "code",
   "execution_count": 10,
   "id": "2f453d80",
   "metadata": {},
   "outputs": [
    {
     "name": "stdout",
     "output_type": "stream",
     "text": [
      "Surat Izin Mengemudi\n",
      "=============================================================\n",
      "                                                   A\n",
      "                                            1019-0111-000xxx\n",
      "1.  Andreas Jefri\n",
      "2.  Nanga Arong, 10-11-2001\n",
      "3.  Pria\n",
      "4.  Dusun Nanga Arong\n",
      "   \n",
      "5.  Mahasiswa\n",
      "6.  Kalbar\n",
      "                                                  16-06-2025\n",
      "=============================================================\n"
     ]
    }
   ],
   "source": [
    "sim = \"Surat Izin Mengemudi\"\n",
    "tipe = \"A\"\n",
    "noreg = \"1019-0111-000xxx\"\n",
    "ttl = \"Nanga Arong, 10-11-2001\"\n",
    "jeniskel = \"Pria\"\n",
    "nama = \"Andreas Jefri\"\n",
    "alamat = \"\"\"Dusun Nanga Arong\n",
    "   \"\"\"\n",
    "status = \"Mahasiswa\"\n",
    "prov = \"Kalbar\"\n",
    "berlaku = \"16-06-2025\"\n",
    "#cetak\n",
    "print (sim)\n",
    "print(\"=============================================================\")\n",
    "\n",
    "print('{:>52}'.format(tipe))\n",
    "print('{:>60}'.format(noreg))\n",
    "\n",
    "\n",
    "print(\"1. \", nama)\n",
    "print(\"2. \", ttl)\n",
    "print(\"3. \", jeniskel)\n",
    "print(\"4. \", alamat)\n",
    "print(\"5. \", status)\n",
    "print(\"6. \", prov)\n",
    "\n",
    "print('{:>60}'.format(berlaku))\n",
    "print(\"=============================================================\")"
   ]
  },
  {
   "cell_type": "code",
   "execution_count": 28,
   "id": "468e7ea2",
   "metadata": {},
   "outputs": [
    {
     "name": "stdout",
     "output_type": "stream",
     "text": [
      "pd.pendi\n",
      "=============================================================\n",
      "                                            pd.pendi\n",
      "                                            1019-0111-000xxx\n",
      "1.  andreas jefri\n",
      "2.  laki-laki\n",
      "3.  katolik\n",
      "4.  Nanga Arong, 10-11-2001\n",
      "5.  Dusun Nanga Arong\n",
      "   \n",
      "6.  S2\n",
      "7. ipi\n",
      "8. manager di pt.pertamina\n",
      "9. juara 1 lomba masak\n",
      "                                                    pd.pendi\n",
      "=============================================================\n"
     ]
    }
   ],
   "source": [
    "surat_izin_perusahaan = \"1019-0111-000xxx\"\n",
    "biodata =\"pd.pendi\"\n",
    "nama= \"andreas jefri\"\n",
    "jenis_kelamin=\"laki-laki\"\n",
    "agama = \"katolik\"\n",
    "ttl = \"Nanga Arong, 10-11-2001\"\n",
    "alamat = \"\"\"Dusun Nanga Arong\n",
    "   \"\"\"\n",
    "pen_terakhir = \"S2\"\n",
    "organisasi =\"ipi\"\n",
    "pengalaman_kerja=\"manager di pt.pertamina\"\n",
    "prestasi=\"juara 1 lomba masak\"\n",
    "cv_perusahaan=\"pd.pendi\"\n",
    "#cetak\n",
    "print (biodata)\n",
    "print(\"=============================================================\")\n",
    "\n",
    "print('{:>52}'.format(cv_perusahaan))\n",
    "print('{:>60}'.format(surat_izin_perusahaan))\n",
    "\n",
    "\n",
    "print(\"1. \", nama)\n",
    "print(\"2. \",jenis_kelamin)\n",
    "print(\"3. \", agama)\n",
    "print(\"4. \", ttl)\n",
    "print(\"5. \", alamat)\n",
    "print(\"6. \", pen_terakhir)\n",
    "print(\"7.\",  organisasi)\n",
    "print(\"8.\", pengalaman_kerja)\n",
    "print(\"9.\", prestasi)\n",
    "\n",
    "print('{:>60}'.format(cv_perusahaan))\n",
    "print(\"=============================================================\")"
   ]
  },
  {
   "cell_type": "code",
   "execution_count": null,
   "id": "124b560c",
   "metadata": {},
   "outputs": [],
   "source": []
  }
 ],
 "metadata": {
  "kernelspec": {
   "display_name": "Python 3",
   "language": "python",
   "name": "python3"
  },
  "language_info": {
   "codemirror_mode": {
    "name": "ipython",
    "version": 3
   },
   "file_extension": ".py",
   "mimetype": "text/x-python",
   "name": "python",
   "nbconvert_exporter": "python",
   "pygments_lexer": "ipython3",
   "version": "3.8.8"
  }
 },
 "nbformat": 4,
 "nbformat_minor": 5
}
